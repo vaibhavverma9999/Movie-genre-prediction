{
 "cells": [
  {
   "cell_type": "code",
   "execution_count": 1,
   "metadata": {},
   "outputs": [],
   "source": [
    "#in this model we will predict movie genres using movie plots\n",
    "#to predict we are using bernoulli naive bayes algorithm\n",
    "#in this section we import all the required libraries\n",
    "import pandas as pd\n",
    "import numpy as np\n",
    "from sklearn.naive_bayes import BernoulliNB\n",
    "from sklearn.preprocessing import LabelEncoder\n",
    "from sklearn.feature_extraction.text import TfidfVectorizer\n",
    "from sklearn.model_selection import train_test_split"
   ]
  },
  {
   "cell_type": "code",
   "execution_count": 2,
   "metadata": {},
   "outputs": [],
   "source": [
    "#we import movie database\n",
    "n1 = LabelEncoder()\n",
    "df = pd.read_csv('movies_metadata.csv')\n",
    "#here is the list of all the movie genres considered in this model\n",
    "genre_types = ['Drama', 'Comedy', 'Adventure', 'History', 'War', 'Thriller', 'Crime', 'Fantasy', 'Horror', 'Family', 'Documentary', 'Mystery', 'Romance', 'Science Fiction', 'Action']"
   ]
  },
  {
   "cell_type": "code",
   "execution_count": 3,
   "metadata": {},
   "outputs": [
    {
     "name": "stdout",
     "output_type": "stream",
     "text": [
      "{'Drama': 20265, 'Comedy': 13182, 'Adventure': 3496, 'History': 1398, 'War': 1323, 'Thriller': 7624, 'Crime': 4307, 'Fantasy': 2313, 'Horror': 4673, 'Family': 2770, 'Documentary': 3932, 'Mystery': 2467, 'Romance': 6735, 'Science Fiction': 3049, 'Action': 6596}\n"
     ]
    }
   ],
   "source": [
    "#now we will count the number of movies in each genre\n",
    "genre_count = {'Drama':0, 'Comedy':0, 'Adventure':0, 'History':0, 'War':0, 'Thriller':0, 'Crime':0, 'Fantasy':0, 'Horror':0, 'Family':0, 'Documentary':0, 'Mystery':0, 'Romance':0, 'Science Fiction':0, 'Action':0}\n",
    "for i in df['genres']:\n",
    "    t = i.split(', {')\n",
    "    for j in range(len(t)):\n",
    "        q = t[j].split(\"'name':\")\n",
    "        if(len(q)<=1):\n",
    "            continue\n",
    "        q = q[1]\n",
    "        q = q.split(\"'\")\n",
    "        q = q[1]\n",
    "        if q in genre_types:\n",
    "            genre_count[q] = genre_count[q] + 1\n",
    "print(genre_count)"
   ]
  },
  {
   "cell_type": "code",
   "execution_count": 4,
   "metadata": {},
   "outputs": [],
   "source": [
    "all_data = []\n",
    "all_out = []\n",
    "\n",
    "for genre in genre_types:\n",
    "    data = []\n",
    "    limit = min(5000, genre_count[genre])\n",
    "    out = []\n",
    "    pos_count = 0\n",
    "    neg_count = 0\n",
    "    for i in range(len(df)):\n",
    "        t = df['genres'][i].split(', {')\n",
    "        if(t[0]=='[]'):\n",
    "            continue\n",
    "        k = 0\n",
    "        for j in range(len(t)):\n",
    "            if(k==0):\n",
    "                q = t[j].split(\"'name':\")\n",
    "                if(len(q)<=1):\n",
    "                    continue\n",
    "                q = q[1]\n",
    "                q = q.split(\"'\")\n",
    "                q = q[1]\n",
    "                if q == genre and pos_count<limit:\n",
    "                    data.append(df['overview'][i])\n",
    "                    out.append(1)\n",
    "                    k = 1\n",
    "                    pos_count += 1\n",
    "                    break\n",
    "        if(k==0 and neg_count<=limit*(2)):\n",
    "            data.append(df['overview'][i])\n",
    "            out.append(0)\n",
    "            neg_count += 1\n",
    "    all_data.append(data)\n",
    "    all_out.append(out)"
   ]
  },
  {
   "cell_type": "code",
   "execution_count": 5,
   "metadata": {},
   "outputs": [],
   "source": [
    "import re\n",
    "for i in range(len(all_data)):\n",
    "    all_data[i] = np.array(all_data[i])\n",
    "    t = []\n",
    "    for j in range(np.size(all_data[i])):\n",
    "        q = re.sub(\"[^a-zA-Z0-9 ]\", \"\", all_data[i][j])\n",
    "        q = q.lower()\n",
    "        t.append(q)\n",
    "    t = np.array(t)\n",
    "    all_data[i] = np.array(t)\n",
    "    all_out[i] = np.array(all_out[i])"
   ]
  },
  {
   "cell_type": "code",
   "execution_count": 6,
   "metadata": {},
   "outputs": [],
   "source": [
    "#saving the tfidf and model for each genre\n",
    "\n",
    "from sklearn.externals import joblib\n",
    "import pickle\n",
    "\n",
    "for i in range(len(genre_types)):\n",
    "    model = BernoulliNB()\n",
    "    data = all_data[i]\n",
    "    out = all_out[i]\n",
    "    tfidf = TfidfVectorizer(lowercase=True, analyzer='word', stop_words='english', ngram_range=(1,1), use_idf=True)\n",
    "    data = tfidf.fit_transform(data)\n",
    "    tfidfname = genre_types[i]+'-tfidf.pkl'\n",
    "    joblib.dump(tfidf, tfidfname)\n",
    "    model.fit(data, out)\n",
    "    modelname = genre_types[i]+'-model.picket'\n",
    "    save_classifier = open(modelname, \"wb\")\n",
    "    pickle.dump(model, save_classifier)\n",
    "    save_classifier.close()"
   ]
  },
  {
   "cell_type": "code",
   "execution_count": 9,
   "metadata": {},
   "outputs": [
    {
     "name": "stdout",
     "output_type": "stream",
     "text": [
      "Drama 67.02\n",
      "Comedy 73.55\n",
      "Adventure 77.88\n",
      "History 75.71\n",
      "War 87.41\n",
      "Thriller 76.82\n",
      "Crime 76.88\n",
      "Fantasy 77.67\n",
      "Horror 87.66\n",
      "Family 78.49\n",
      "Documentary 87.63\n",
      "Mystery 76.52\n",
      "Romance 75.08\n",
      "Science Fiction 85.79\n",
      "Action 78.81\n",
      "Overall Accuracy:  78.86\n"
     ]
    }
   ],
   "source": [
    "#calculating the accuracy\n",
    "\n",
    "from sklearn.externals import joblib\n",
    "import pickle\n",
    "from sklearn import metrics\n",
    "\n",
    "avg = 0\n",
    "for i in range(len(genre_types)):\n",
    "    model = BernoulliNB()\n",
    "    data = all_data[i]\n",
    "    out = all_out[i]\n",
    "    tfidf = TfidfVectorizer(lowercase=True, analyzer='word', stop_words='english', ngram_range=(1,1), use_idf=True)\n",
    "    data = tfidf.fit_transform(data)\n",
    "    tfidfname = genre_types[i]+'-tfidf.pkl'\n",
    "    joblib.dump(tfidf, tfidfname)\n",
    "    X_train, X_test, Y_train, Y_test = train_test_split(data, out, test_size=0.1, random_state=1)\n",
    "    model.fit(X_train, Y_train)\n",
    "    Y_predict = model.predict(X_test)\n",
    "    acc = metrics.accuracy_score(Y_test, Y_predict)*100\n",
    "    avg = avg + acc\n",
    "    print(genre_types[i], round(acc, 2))\n",
    "print(\"Overall Accuracy: \", round(avg/15, 2))"
   ]
  },
  {
   "cell_type": "code",
   "execution_count": 6,
   "metadata": {},
   "outputs": [
    {
     "name": "stdout",
     "output_type": "stream",
     "text": [
      "in the years after the civil war jo march saoirse ronan lives in new york city and makes her living as a writer while her sister amy march florence pugh studies painting in paris amy has a chance encounter with theodore laurie laurence timothe chalamet a childhood crush who proposed to jo but was ultimately rejected their oldest sibling meg march emma watson is married to a schoolteacher while shy sister beth eliza scanlen develops a devastating illness that brings the family back together\n",
      "['Drama', 'Romance']\n"
     ]
    }
   ],
   "source": [
    "#predict the genre using the plot of a movie\n",
    "\n",
    "import pickle\n",
    "import numpy as np\n",
    "from sklearn.externals import joblib\n",
    "import re\n",
    "\n",
    "plot = \"In the years after the Civil War, Jo March (Saoirse Ronan) lives in New York City and makes her living as a writer, while her sister Amy March (Florence Pugh) studies painting in Paris. Amy has a chance encounter with Theodore Laurie Laurence (Timothée Chalamet), a childhood crush who proposed to Jo, but was ultimately rejected. Their oldest sibling, Meg March (Emma Watson), is married to a schoolteacher, while shy sister Beth (Eliza Scanlen) develops a devastating illness that brings the family back together.\"\n",
    "plot = re.sub(\"[^a-zA-Z0-9 ]\", \"\", plot)\n",
    "plot = plot.lower()\n",
    "plot = np.array(plot).reshape(-1,1)\n",
    "\n",
    "genres = []\n",
    "genre_types = ['Drama', 'Comedy', 'Adventure', 'History', 'War', 'Thriller', 'Crime', 'Fantasy', 'Horror', 'Family', 'Documentary', 'Mystery', 'Romance', 'Science Fiction', 'Action']\n",
    "for i in range(len(genre_types)):\n",
    "    tfidfname = genre_types[i]+'-tfidf.pkl'\n",
    "    tfidf = joblib.load(tfidfname)\n",
    "    temp = tfidf.transform(plot[0])\n",
    "    modelname = genre_types[i]+'-model.picket'\n",
    "    classifier_f = open(modelname, \"rb\")\n",
    "    model = pickle.load(classifier_f)\n",
    "    classifier_f.close()\n",
    "    if (model.predict(temp)[0]==1):\n",
    "        genres.append(genre_types[i])\n",
    "print(genres)"
   ]
  }
 ],
 "metadata": {
  "kernelspec": {
   "display_name": "Python 3",
   "language": "python",
   "name": "python3"
  },
  "language_info": {
   "codemirror_mode": {
    "name": "ipython",
    "version": 3
   },
   "file_extension": ".py",
   "mimetype": "text/x-python",
   "name": "python",
   "nbconvert_exporter": "python",
   "pygments_lexer": "ipython3",
   "version": "3.7.3"
  }
 },
 "nbformat": 4,
 "nbformat_minor": 2
}
